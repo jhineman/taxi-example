{
 "cells": [
  {
   "cell_type": "markdown",
   "metadata": {},
   "source": [
    "# Python programming for data science with pandas and related\n",
    "*Jay Hineman*\n",
    "\n",
    "## Outline\n",
    "This notebook provides an *opinionated* and hopefully *succint* introduction to python programming scoped to data science activities. To this end, it is in no way exhaustive and we highly recommend the more complete discussions:\n",
    "* **Data Science:** \n",
    "* **Python programming:** [Python Data Science Handbook](https://a.co/d/gVyo7tV)\n",
    "* **Software architecture and engineering:** [Clean architecture: A Craftsman's Guide to Software Structure and Design](https://a.co/d/arW5A4a)\n",
    "\n",
    "## Pandas TL;DR\n",
    "### [Overview of Pandas](https://pandas.pydata.org/docs/getting_started/overview.html)\n",
    ">pandas is a Python package providing fast, flexible, and expressive data structures designed to make working with “relational” or “labeled” data both easy and intuitive. It aims to be the fundamental high-level building block for doing practical, **real-world** data analysis in Python. Additionally, it has the broader goal of becoming **the most powerful and flexible open source data analysis/manipulation tool available in any language.** It is already well on its way toward this goal.\n",
    "\n",
    "### Other (official) getting started resources\n",
    "* [10 minutes to pandas](https://pandas.pydata.org/docs/user_guide/10min.html#)\n",
    "* [pandas cookbook](https://pandas.pydata.org/docs/user_guide/cookbook.html#cookbook)"
   ]
  },
  {
   "cell_type": "markdown",
   "metadata": {},
   "source": [
    "## 1 Minute Primer object oriented programming in Python for data science\n",
    "* Python is a highly object oriented language -- everything is essentially and object even *numbers* and *functions* (compare this to traditional computational languages such as C/Fortran). *This has both advantages and disadvantages.*\n",
    "* Python is multiparadigm and supports functional programming paradigms.\n",
    "* Python is dynamically or duck-typed; *this again has both advantages and disadvantages*\n",
    "* A pattern we will often use in data science, especially with python, is one where we have a data object/class and we use stateless functions to transform this data either creating a new data object/class. Core data objects/classes for this are pandas `DataFrame` and `Series` though they are not the only such data structures we would want to use in the python ecosystem."
   ]
  },
  {
   "cell_type": "markdown",
   "metadata": {
    "vscode": {
     "languageId": "plaintext"
    }
   },
   "source": [
    "## Basic data structures in pandas and their creation\n",
    "The basic data structures in pandas are\n",
    "* `Series` -- pandas column\n",
    "* `DataFrame` -- pandas table"
   ]
  },
  {
   "cell_type": "markdown",
   "metadata": {},
   "source": [
    "### Series creation\n",
    "We provide and example creating a series object from other python data structures."
   ]
  },
  {
   "cell_type": "code",
   "execution_count": null,
   "metadata": {},
   "outputs": [],
   "source": [
    "import numpy as np # standard idiom\n",
    "import pandas as pd # standard idiom\n",
    "\n",
    "x = np.random.rand(10)\n",
    "y = [1,3,4, np.nan]\n",
    "z = [{str(i): i} for i in range(6)] # danger/warning here 🐉 -- not numeric type\n",
    "\n",
    "s_x = pd.Series(x)\n",
    "s_y = pd.Series(y)\n",
    "s_z = pd.Series(z)"
   ]
  },
  {
   "cell_type": "markdown",
   "metadata": {},
   "source": [
    "### DataFrame Creation with Yellow Cab Data\n",
    "We do somehting less basic here and common with pandas. We table data in a common format on disk and read it into pandas. The table data in this case is [yellow_tripdata_2024-01.parquet](yellow_tripdata_2024-01.parquet) which is assumed to be downloaded already.\n",
    "\n",
    "We will load this data and simultaneous create a pandas dataframe from it."
   ]
  },
  {
   "cell_type": "markdown",
   "metadata": {},
   "source": [
    "## Viewing, selecting, and transforming data in DataFrame\n",
    "Building on the last section we demonstrate how with yellow cab data:\n",
    "* ... to view and select different parts of the data\n",
    "* ... to create new objects from these views/selections\n",
    "* ... to perform calculations either built in or user defined"
   ]
  },
  {
   "cell_type": "markdown",
   "metadata": {},
   "source": [
    "### Make a new cleaned data frame which we can analyze and visualize\n"
   ]
  }
 ],
 "metadata": {
  "language_info": {
   "name": "python"
  }
 },
 "nbformat": 4,
 "nbformat_minor": 2
}
